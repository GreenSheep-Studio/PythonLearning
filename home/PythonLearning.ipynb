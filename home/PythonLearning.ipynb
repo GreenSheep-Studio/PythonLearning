{
  "cells": [
    {
      "cell_type": "markdown",
      "metadata": {
        "tags": []
      },
      "source": [
        "#### python知识点梳理\n",
        "## 一、输入输出及数据类型\n",
        "### 1、输入\n",
        "        输入时就只要用input()就好了\n",
        "        如果遇到中间用\",\"或者\"空格\"隔开的,就变成input().split() <-(这中间放\" \"或者\",\")\n",
        "        记住噢split出来的就不是字符串str了,是列表list噢\n",
        "### 2、输出\n",
        "        输出就用print(),如果是自己写程序,就背一个适合自己的通用格式,像我的话\n",
        "        我比较喜欢用print(f\"这是一个格式化输出输出保留两位小数的x = {x:.2f}\")\n",
        "        特别的 print(x, end = \" \") 输出x,然后后面用\" \"分隔\n",
        "### 3、数据类型\n",
        "        int整数 int()强制转换为整数 (向下取整,int(4.8) = 4)\n",
        "        float浮点数(小数) float()强制转换为小数\n",
        "        str字符串,input()出来的就是它 str()强制转换为字符串\n",
        "        list列表 list()强制转换为列表\n",
        "        \n",
        "        比较少用的: dict和set   \n",
        "            (说实话我用这两家伙也用的少,一下子写不出重点,可以重点看一下那些.出来的函数\"dict.xx()\")"
      ]
    },
    {
      "cell_type": "code",
      "execution_count": null,
      "metadata": {},
      "outputs": [],
      "source": [
        "a = input(\"输入a,别看有时候a是数字,但其实人家是str哦\")\n",
        "print(type(a))\n",
        "aInt = int(a) ##这样子aInt才是数字噢\n",
        "print(f\"a的值等于{aInt}\")\n",
        "\n",
        "b = input(\"我要用split了噢,出来可就是list了\").split(\",\")\n",
        "print(b)\n",
        "\n",
        "c = 'hello'\n",
        "for x in c:\n",
        "    print(x, end = \",\") ##出来是 'h,e,l,l,o'"
      ]
    },
    {
      "cell_type": "markdown",
      "metadata": {},
      "source": [
        "## 二、选择和循环\n",
        "### 2、选择结构\n",
        "    if 选择:\n",
        "    基本结构\n",
        "        if 条件1 :\n",
        "            语句1\n",
        "        elif 条件2 :\n",
        "            语句2\n",
        "        else:\n",
        "            语句3\n",
        "    嵌套选择结构:\n",
        "        if 条件1:\n",
        "            if 条件1.1:\n",
        "                语句1.1\n",
        "            elif 条件1.2:\n",
        "                语句1.1\n",
        "        elif 条件2:\n",
        "            if 条件2.1:\n",
        "                语句2.1\n",
        "            elif 条件2.2:\n",
        "                语句2.2\n",
        "### 3、循环结构\n",
        "    for循环\n",
        "    常用格式 for i in 列表/字符串:     i是列表/字字符串每一个位\n",
        "            for i in range(begin, end, step):    \n",
        "                语句\n",
        "            这里的end是不包含的噢,step默认是1! range(1,5)就是1,2,3,4\n",
        "    while循环\n",
        "        while 条件:\n",
        "            语句\n",
        "    continue和break\n",
        "        continue是跳过下面的,然后循环下一个;break是跳过下面的,直接结束循环"
      ]
    },
    {
      "cell_type": "code",
      "execution_count": null,
      "metadata": {},
      "outputs": [],
      "source": [
        "for i in 'hello':\n",
        "    print(i,end = \",\")\n",
        "\n",
        "print(\"\\n\") \n",
        "for i in range(1,20,2):\n",
        "    print(i, end = \",\")\n",
        "\n",
        "print(\"\\n\")     \n",
        "while i < 10:\n",
        "    print(i, end=\",\")\n",
        "    i += 1\n",
        "    \n",
        "print(\"\\n\") \n",
        "for i in range(1,10):\n",
        "    if i == 3:\n",
        "        continue ##等于3,跳过下面的所有,然后从i = 4继续\n",
        "    print(i, end = \",\")\n",
        "    if i == 6: ##等于6,直接结束\n",
        "        break"
      ]
    },
    {
      "cell_type": "markdown",
      "metadata": {},
      "source": [
        "## 三、列表操作速记\n",
        "    list.append(x) 添加元素x\n",
        "    list.insert(x, y) 将y添加到x后面\n",
        "    list.pop(i) 选出第i位元素,并删掉  默认是最后一个\n",
        "    list.remove(x) 直接删掉元素x\n",
        "    list.index(x) 返回x所在的位置\n",
        "    list.count(x) 返回x出现的次数\n",
        "    list.sort() 排序\n",
        "    list.reverse() 反向排序\n",
        "    list.copy() 复制列表\n",
        "    list.clear() 清空列表\n",
        "    list.extend(list2) 合并列表\n",
        "## 四、字典操作速记\n",
        "    dict.keys() 返回字典所有的键\n",
        "    dict.values() 返回字典所有的值\n",
        "    dict.items() 返回字典所有的键值对  \n",
        "    dict.get(key, default=None) 返回键对应的值,没有返回默认值\n",
        "    dict.pop(key) 删除键值对\n",
        "    dict.popitem() 删除最后一个键值对\n",
        "    dict.copy() 复制字典\n",
        "    dict.clear() 清空字典\n",
        "    dict.update(dict2) 合并字典\n",
        "    dict.setdefault(key, default=None) 返回键对应的值,没有返回默认值,并且将键值对添加到字典中\n",
        "    dict.fromkeys(seq, value=None) 返回一个新字典,将seq中的元素作为键,value作为值\n",
        "\n",
        "这上面有好多\"返回\",\"返回\"的意思就是这个功能是能等于出来的\n",
        "比如x = list.pop(i),这个x就是返回出来的,但是像list.remove(x)这个x就是直接删掉了,是不能等于出来的\n",
        "\n",
        "### 列表切片\n",
        "    list[start:end:step]\n",
        "    start: 开始索引, 默认为0,-1代表倒数第一个,然后类推噢\n",
        "    end: 结束索引, 默认为列表长度\n",
        "    step: 步长, 默认为1;负数就是反着来,这时候start默认-1,end默认-len(list)\n",
        "\n",
        "    反转: list = list[::-1]\n",
        "\n",
        "特别的特别的,选择题里好喜欢考这个:就是append和extend的区别\n",
        "    append是将括号里的一整个毫无保留的加到后面\n",
        "    extend是将括号里的一整个的元素一个一个的加到后面\n",
        "然后的然后,List=[1,2,[3,4],5,6]这个里面[3,4]是一个整体,是不能拆开的"
      ]
    },
    {
      "cell_type": "code",
      "execution_count": null,
      "metadata": {},
      "outputs": [],
      "source": [
        "List1 = [1,2,3,4,5]\n",
        "List2 = [6,7,8,9,10]\n",
        "List1.extend(List2) #出来List1变成[1,2,3,4,5,6,7,8,9,10]\n",
        "List1.append(11) #出来List1变成[1,2,3,4,5,6,7,8,9,10,11]\n",
        "x = List2.pop(1) #x = 7,然后List2里的7就不见了\n",
        "print(x)\n",
        "List2.remove(9) # List2里面的9被删掉了,哪里都找不到它噢\n",
        "List2.reverse() #List2变成[10,8,6]\n",
        "List3 = [1,2,[3,4],5]\n",
        "List3.reverse() #出来时变成[5,[3,4],2,1]\n",
        "\n",
        "Dict1 = {'a':1,'b':2,'c':3}\n",
        "Dict2 = {'d':4,'e':5,'f':6}\n",
        "Dict1.update(Dict2) #把两个合并到一起,用的是Dict1的名字"
      ]
    },
    {
      "cell_type": "markdown",
      "metadata": {},
      "source": [
        "## 函数\n",
        "### 函数其实很简单,基本格式就是\n",
        "    def function_name(arg1,arg2,...):\n",
        "        return\n",
        "### 比如我要自定义一个算a+b的函数,就是\n",
        "    def WoYaoSuanA+B(a,b):\n",
        "        c = a+b\n",
        "        return c\n",
        "    调用到时候就得\n",
        "        WoYaoSuanA+B(1,2) #出来就是3\n",
        "### 当然,括号里的参数是能加默认值的噢\n",
        "    def WoYaoSuanA+B(a,b=1):\n",
        "        c = a+b\n",
        "        return c\n",
        "### 调用的时候,\n",
        "    WoYaoSuanA+B(10) #出来就是11\n",
        "当然,b = 1是可以覆盖掉的\n",
        "调用的时候WoYaoSuanA+B(10,2)也是可以的,出来就是12啦"
      ]
    },
    {
      "cell_type": "code",
      "execution_count": null,
      "metadata": {},
      "outputs": [],
      "source": [
        "def Add(a, b = 520):\n",
        "    c = a + b\n",
        "    return c\n",
        "def Heihei(name1, name2):\n",
        "    print(name1+' love '+name2+' forever ') #也可以不return的噢,有输出操作也行,但就不能返回了,见下面噢\n",
        "print(Add(1314)) #520 + 1314 = 1834\n",
        "Heihei('Zdy', 'Jxy')\n",
        "\n",
        "'''我可以说x = Add(1314),但不能说y = Heihei('Zdy','Jxy')这就是返回和不返回的区别啦'''"
      ]
    },
    {
      "cell_type": "markdown",
      "metadata": {},
      "source": [
        "## 常见算法\n",
        "### 1. 分离各个位数\n",
        "    num = 123456789\n",
        "    while num != 0:\n",
        "        print(num % 10) # 123456789 % 10 = 9\n",
        "        num = num // 10 # 123456789 // 10 = 1234567\n",
        "注意是倒着出来的噢,9最先被分离出开,然后8,7,6,5,4,3,2,1\n",
        "### 2. "
      ]
    },
    {
      "cell_type": "code",
      "execution_count": 1,
      "metadata": {},
      "outputs": [
        {
          "name": "stdout",
          "output_type": "stream",
          "text": [
            "9\n",
            "8\n",
            "7\n",
            "6\n",
            "5\n",
            "4\n",
            "3\n",
            "2\n",
            "1\n"
          ]
        }
      ],
      "source": [
        "def splitNum(Num):\n",
        "    while Num != 0:\n",
        "        print(Num % 10)\n",
        "        Num = Num // 10\n",
        "\n",
        "splitNum(123456789)"
      ]
    },
    {
      "cell_type": "code",
      "execution_count": null,
      "metadata": {},
      "outputs": [],
      "source": []
    }
  ],
  "metadata": {
    "kernelspec": {
      "display_name": "Python 3",
      "language": "python",
      "name": "python3"
    },
    "language_info": {
      "codemirror_mode": {
        "name": "ipython",
        "version": 3
      },
      "file_extension": ".py",
      "mimetype": "text/x-python",
      "name": "python",
      "nbconvert_exporter": "python",
      "pygments_lexer": "ipython3",
      "version": "3.10.5"
    }
  },
  "nbformat": 4,
  "nbformat_minor": 4
}

{
  "metadata": {
    "language_info": {
      "codemirror_mode": {
        "name": "python",
        "version": 3
      },
      "file_extension": ".py",
      "mimetype": "text/x-python",
      "name": "python",
      "nbconvert_exporter": "python",
      "pygments_lexer": "ipython3",
      "version": "3.8"
    },
    "kernelspec": {
      "name": "python",
      "display_name": "Python (Pyodide)",
      "language": "python"
    }
  },
  "nbformat_minor": 4,
  "nbformat": 4,
  "cells": [
    {
      "cell_type": "markdown",
      "source": "# 基本数据类型\n\n## int（整数）\n\n- 要点：\n  - int用于表示整数，可以是正整数、负整数、零。\n  - 支持基本的整数运算，如加法、减法、乘法和除法。\n  - 整数可以直接进行比较操作，如等于（==）、不等于（!=）、大于（>）、小于（<）、大于等于（>=）、小于等于（<=）。\n  - 可以使用int()函数将其他数据类型（如浮点数或字符串）转换为整数。",
      "metadata": {}
    },
    {
      "cell_type": "code",
      "source": "",
      "metadata": {
        "trusted": true
      },
      "execution_count": null,
      "outputs": []
    },
    {
      "cell_type": "markdown",
      "source": "- int的常见错误用法：\n  - 将无效的字符串转换为整数会引发ValueError异常。\n  - 整数除法（/）返回浮点数结果，如果需要整数结果，可以使用整除操作符（//）。\n  - 将浮点数转换为整数时，会丢失小数部分，带来精度损失。\n  - 使用整数进行除法时，除数为 0 会导致错误。",
      "metadata": {}
    },
    {
      "cell_type": "code",
      "source": "",
      "metadata": {
        "trusted": true
      },
      "execution_count": null,
      "outputs": []
    },
    {
      "cell_type": "markdown",
      "source": "---\n\n## float（浮点数）\n\n- 要点：\n  - float用于表示带有小数部分的数字。\n  - 支持基本的数学运算，如加法、减法、乘法和除法。\n  - 浮点数可以直接进行比较操作，与整数相同。\n  - 可以使用float()函数将其他数据类型（如整数或字符串）转换为浮点数。",
      "metadata": {}
    },
    {
      "cell_type": "code",
      "source": "",
      "metadata": {},
      "execution_count": null,
      "outputs": []
    },
    {
      "cell_type": "markdown",
      "source": "- float的常见错误用法：\n  - 浮点数精度问题：由于计算机内部表示的有限精度，浮点数计算可能导致精度损失。比较浮点数时应谨慎使用\"==\"，而是考虑使用近似比较。\n  - 避免在金融或其他对精度要求高的领域中直接使用浮点数进行货币计算。",
      "metadata": {}
    },
    {
      "cell_type": "code",
      "source": "",
      "metadata": {
        "trusted": true
      },
      "execution_count": null,
      "outputs": []
    },
    {
      "cell_type": "markdown",
      "source": "---\n\n## bool（布尔型）\n\n- 要点：\n  - bool用于表示逻辑值，只有两个可能的值：True和False。\n  - 常用于条件语句和逻辑运算。",
      "metadata": {}
    },
    {
      "cell_type": "code",
      "source": "",
      "metadata": {},
      "execution_count": null,
      "outputs": []
    },
    {
      "cell_type": "markdown",
      "source": "- bool的常见错误用法：\n  - 注意大小写：布尔值区分大小写，应使用首字母大写的True和False。\n  - 避免将其他数据类型（如整数或字符串）与bool混淆。可以使用bool()函数将其他数据类型转换为布尔值。\n  - 在布尔表达式中，应使用and、or和not运算符，而不是使用&、|和~等位运算符.\n  - 不要在布尔表达式中使用双重否定，这会让代码难以理解。",
      "metadata": {}
    },
    {
      "cell_type": "code",
      "source": "",
      "metadata": {},
      "execution_count": null,
      "outputs": []
    },
    {
      "cell_type": "markdown",
      "source": "---\n\n## str（字符串）\n\n- 要点：\n  - str用于表示文本字符串。\n  - 支持字符串的拼接、切片、长度计算等操作。\n  - 字符串可以由单引号（'）或双引号（\"）括起来。\n  - 字符串也可以用三个单引号（'''）或三个双引号（\"\"\"）括起来。",
      "metadata": {}
    },
    {
      "cell_type": "code",
      "source": "",
      "metadata": {},
      "execution_count": null,
      "outputs": []
    },
    {
      "cell_type": "markdown",
      "source": "- str的常见错误用法：\n  - 字符串索引错误：字符串索引从0开始，访问字符串中的字符时应谨记索引的范围。\n  - 字符串拼接错误：使用加号（+）进行字符串拼接时，要确保操作数都是字符串，否则会引发TypeError异常。\n  - 避免使用未关闭的引号，这会导致语法错误。\n  - 字符串是不可变的，这意味着一旦创建，就不能直接更改其中的字符。",
      "metadata": {}
    },
    {
      "cell_type": "code",
      "source": "",
      "metadata": {},
      "execution_count": null,
      "outputs": []
    },
    {
      "cell_type": "markdown",
      "source": "---\n\n## 列表（list）\n\n**要点：**\n\n1. **创建列表：** 使用方括号（`[]`）来创建一个空列表，或者在方括号内添加元素来创建包含元素的列表。\n2. **索引和切片：** 列表中的元素可以通过索引来访问，索引从0开始。还可以使用切片来获取子列表。\n3. **修改列表：** 列表是可变的，可以通过索引来修改元素的值。\n4. **添加和删除元素：** 使用`append()`方法在列表末尾添加元素，使用`insert()`方法在指定位置插入元素。使用`pop()`方法删除指定索引位置的元素。\n5. **列表长度：** 使用`len()`函数可以获取列表的长度。",
      "metadata": {}
    },
    {
      "cell_type": "code",
      "source": "",
      "metadata": {},
      "execution_count": null,
      "outputs": []
    },
    {
      "cell_type": "markdown",
      "source": "**list常见错误用法：**\n\n1. **混淆列表和元组：** 列表使用方括号，而元组使用圆括号。列表是可变的，元组是不可变的。\n2. **使用不合适的索引：** 索引超出列表范围或使用负数索引可能会引发`IndexError`。\n3. **使用`=`复制列表：** 直接使用`=`将列表赋给另一个变量会导致两个变量引用同一个列表，修改其中一个会影响另一个。",
      "metadata": {}
    },
    {
      "cell_type": "code",
      "source": "",
      "metadata": {},
      "execution_count": null,
      "outputs": []
    },
    {
      "cell_type": "markdown",
      "source": "---\n\n# 变量\n\nPython 编程中，变量是非常重要的概念，以下是关于变量的使用要点和一些常见错误：\n\n**变量使用要点：**\n- **本质**是**对数据的重用** \n1. **变量的定义：** 变量是用来存储数据的标识符。在Python中，定义变量非常简单，只需给变量一个名称并将数据赋给它。\n2. **变量命名规则：** 变量名称只能包含字母、数字和下划线（_），并且不能以数字开头。变量名称区分大小写。\n3. **变量的使用：** 可以使用变量进行计算、输出和操作。变量的值可以随时更改。\n- 可以用`type()`函数查看变量的数据类型  ",
      "metadata": {}
    },
    {
      "cell_type": "code",
      "source": "",
      "metadata": {},
      "execution_count": null,
      "outputs": []
    },
    {
      "cell_type": "markdown",
      "source": "\n**常见错误用法：**\n\n1. **未定义变量：** 尝试使用未定义的变量会导致`NameError`。\n2. **使用保留字：** 不要将Python的保留字作为变量名，这些保留字具有特殊用途。\n3. **重复定义：** 不要重复定义同名变量，这会导致变量被覆盖。",
      "metadata": {}
    },
    {
      "cell_type": "code",
      "source": "",
      "metadata": {},
      "execution_count": null,
      "outputs": []
    },
    {
      "cell_type": "markdown",
      "source": "## 赋值操作\n\n在Python编程中，赋值操作是非常常见的，但也有一些要点和常见错误需要注意。以下是赋值操作的要点和常见错误：\n\n**赋值操作的要点：**\n\n1. **基本赋值：** 使用等号（`=`）将一个值赋给一个变量。\n2. **多重赋值：** 可以同时给多个变量赋值。\n3. **增量赋值：** 使用增量运算符（例如`+=`、`-=`、`*=`、`/=`）可以对变量进行增量赋值。\n4. **链式赋值：** 可以将相同的值赋给多个变量。\n5. **交换变量值：** 可以使用临时变量或Python的多重赋值来交换两个变量的值。",
      "metadata": {}
    },
    {
      "cell_type": "code",
      "source": "",
      "metadata": {},
      "execution_count": null,
      "outputs": []
    },
    {
      "cell_type": "markdown",
      "source": "**赋值操作的常见错误：**\n\n1. **未定义变量：** 如果在使用变量之前未对其进行赋值，将引发`NameError`。\n2. **混淆等号：** 在赋值操作中，等号（`=`）用于赋值，而双等号（`==`）用于比较。\n3. **不同类型的赋值：** 尝试将不同类型的值赋给变量可能导致类型错误。",
      "metadata": {}
    },
    {
      "cell_type": "code",
      "source": "",
      "metadata": {},
      "execution_count": null,
      "outputs": []
    },
    {
      "cell_type": "markdown",
      "source": "---\n\n### 用`#`添加注释",
      "metadata": {}
    },
    {
      "cell_type": "code",
      "source": "",
      "metadata": {},
      "execution_count": null,
      "outputs": []
    },
    {
      "cell_type": "markdown",
      "source": "\n# 流程控制\n\n## 条件语句\n\n**条件语句使用要点：**\n\n1. **条件语句的结构：** Python中的条件语句使用`if`、`elif`（可选）、和`else`（可选）关键字构成。基本结构如下：\n2. **比较操作符：** 在条件中使用比较操作符（如`==`、`!=`、`<`、`>`、`<=`、`>=`）来比较两个值。\n3. **逻辑操作符：** 可以使用逻辑操作符（如`and`、`or`、`not`）组合多个条件。\n4. **缩进：** Python使用缩进来表示代码块，因此请确保在条件语句的代码块中正确缩进。",
      "metadata": {}
    },
    {
      "cell_type": "code",
      "source": "",
      "metadata": {},
      "execution_count": null,
      "outputs": []
    },
    {
      "cell_type": "markdown",
      "source": "**常见错误：**\n\n1. **忘记冒号：** 在条件语句的末尾必须添加冒号，否则会引发语法错误。\n2. **缩进不一致：** 不一致的缩进会导致`IndentationError`，请确保代码块中的缩进一致。\n3. **混淆赋值和比较：** 在条件中使用`=`而不是`==`会将赋值操作与比较混淆。\n4. **误用逻辑操作符：** 混淆了逻辑操作符的优先级，应该使用括号来明确优先级。\n5. **不正确的条件：** 条件表达式的结果应该是布尔值（True或False），请确保条件表达式的正确性。\n6. **忘记`elif`和`else`：** 在多条件情况下，如果忘记了使用`elif`和`else`，可能会导致逻辑错误。",
      "metadata": {}
    },
    {
      "cell_type": "code",
      "source": "",
      "metadata": {},
      "execution_count": null,
      "outputs": []
    },
    {
      "cell_type": "markdown",
      "source": "`pass` 是 Python 中的一个关键字，用于表示一个空的占位符，它不执行任何操作。通常，`pass` 被用于占据某个语句块的位置，以保持代码的结构完整性。以下是关于 `pass` 的使用要点：\n\n1. **占位符：** `pass` 主要用作占位符，它不执行任何操作，只是告诉解释器在这个位置不需要执行任何代码。\n2. **保持代码结构完整：** 在开发过程中，有时您可能需要先定义一个函数或类的框架，但还没有实现其内部逻辑。在这种情况下，可以使用 `pass` 来保持代码的结构完整性，以后再填充具体内容。\n3. **占据条件分支：** 在编写条件分支语句时，如果某个条件分支暂时不需要执行任何操作，可以使用 `pass` 来表示空操作。",
      "metadata": {}
    },
    {
      "cell_type": "code",
      "source": "",
      "metadata": {},
      "execution_count": null,
      "outputs": []
    },
    {
      "cell_type": "markdown",
      "source": "## 缩进\n\n**缩进的使用要点：**\n\n1. **统一缩进：** Python要求在同一个代码块中的所有行都具有相同的缩进级别。通常使用四个空格作为标准缩进级别，虽然也可以使用制表符（Tab），但不建议混合使用空格和制表符。\n2. **缩进表示代码块：** 缩进用于表示代码块的开始和结束。例如，`if`语句、`for`循环和函数定义都需要正确的缩进。\n3. **缩进嵌套：** 如果有多个代码块嵌套在一起，每个嵌套层次都需要增加一个缩进级别。\n4. **缩进一致性：** 所有代码行应该在相同的缩进级别上，不要出现不一致的缩进，这会引发语法错误。",
      "metadata": {}
    },
    {
      "cell_type": "code",
      "source": "",
      "metadata": {},
      "execution_count": null,
      "outputs": []
    },
    {
      "cell_type": "markdown",
      "source": "**缩进的常见使用错误：**\n\n1. **忘记缩进：** Python中的所有代码块都需要正确的缩进，忘记缩进会导致`IndentationError`。\n2. **混合使用空格和制表符：** 混合使用空格和制表符作为缩进会导致混乱和错误。建议使用四个空格作为标准缩进。\n3. **不一致的缩进：** 不一致的缩进会导致语法错误，因此要确保在同一代码块中的所有行都有相同的缩进级别。\n4. **缩进级别错误：** 不正确的缩进级别会导致代码块不被识别为预期的嵌套层次。",
      "metadata": {}
    },
    {
      "cell_type": "code",
      "source": "",
      "metadata": {},
      "execution_count": null,
      "outputs": []
    },
    {
      "cell_type": "markdown",
      "source": "---\n\n# 循环\n\n## while循环\n\n**while 循环使用要点：**\n\n1. **条件控制：** `while`循环通过一个条件来控制执行，只要条件为真，循环就会继续执行。\n2. **避免无限循环：** 在使用`while`循环时，确保循环的条件最终会变为假，否则可能导致无限循环。\n3. **使用计数器：** 常用于`while`循环的技巧是使用计数器来控制循环的次数。",
      "metadata": {}
    },
    {
      "cell_type": "code",
      "source": "",
      "metadata": {},
      "execution_count": null,
      "outputs": []
    },
    {
      "cell_type": "markdown",
      "source": "**while 循环常见错误：**\n\n1. **未更新循环条件：** 忘记在循环内部更新条件变量可能导致无限循环。\n2. **条件不满足：** 如果循环条件一开始就不满足，循环将不会执行。",
      "metadata": {}
    },
    {
      "cell_type": "code",
      "source": "",
      "metadata": {},
      "execution_count": null,
      "outputs": []
    },
    {
      "cell_type": "markdown",
      "source": "## for循环\n\n**for 循环使用要点：**\n\n1. **迭代集合：** `for`循环通常用于迭代序列（如列表、元组、字符串）中的元素。\n2. **使用`range`函数：** 可以使用`range`函数来生成一系列数字，用于循环的计数或索引。",
      "metadata": {}
    },
    {
      "cell_type": "code",
      "source": "",
      "metadata": {},
      "execution_count": null,
      "outputs": []
    },
    {
      "cell_type": "markdown",
      "source": "**for 循环常见使用错误：**\n\n1. **在迭代过程中修改集合：** 在`for`循环中迭代序列时，不要尝试在循环内部修改该序列。\n2. **遗漏`break`语句：** 在某些情况下，需要在`for`循环中使用`break`语句来提前退出循环。",
      "metadata": {}
    },
    {
      "cell_type": "code",
      "source": "",
      "metadata": {},
      "execution_count": null,
      "outputs": []
    }
  ]
}